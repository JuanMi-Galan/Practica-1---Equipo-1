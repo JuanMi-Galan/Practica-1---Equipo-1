{
 "cells": [
  {
   "cell_type": "markdown",
   "id": "32b5fd9a",
   "metadata": {},
   "source": [
    "# Practica 1"
   ]
  },
  {
   "cell_type": "markdown",
   "id": "3a9d764f",
   "metadata": {},
   "source": [
    "### Importación de librerias"
   ]
  },
  {
   "cell_type": "code",
   "execution_count": 5,
   "id": "16120282",
   "metadata": {},
   "outputs": [],
   "source": [
    "import pandas as pd\n",
    "import numpy as np\n",
    "import matplotlib.pyplot as plt\n",
    "import cufflinks as cf\n",
    "import glob\n",
    "import os\n",
    "\n",
    "import pyarrow as pa\n",
    "import pyarrow.parquet as pq\n",
    "from pathlib import Path\n",
    "import pyarrow.dataset as ds\n",
    "\n",
    "import polars as pl"
   ]
  },
  {
   "cell_type": "markdown",
   "id": "ec94cb45",
   "metadata": {},
   "source": [
    "### Segmentaciones por año"
   ]
  },
  {
   "cell_type": "code",
   "execution_count": 2,
   "id": "68a96a62",
   "metadata": {},
   "outputs": [],
   "source": [
    "ruta = \"../dataset/2022-2023/\""
   ]
  },
  {
   "cell_type": "code",
   "execution_count": 3,
   "id": "4e0291ee",
   "metadata": {},
   "outputs": [],
   "source": [
    "# Buscar todos los archivos .csv dentro de la carpeta\n",
    "archivos = glob.glob(ruta + \"*.csv\")"
   ]
  },
  {
   "cell_type": "code",
   "execution_count": 4,
   "id": "eb96ad98",
   "metadata": {},
   "outputs": [
    {
     "ename": "ValueError",
     "evalue": "No objects to concatenate",
     "output_type": "error",
     "traceback": [
      "\u001b[31m---------------------------------------------------------------------------\u001b[39m",
      "\u001b[31mValueError\u001b[39m                                Traceback (most recent call last)",
      "\u001b[36mCell\u001b[39m\u001b[36m \u001b[39m\u001b[32mIn[4]\u001b[39m\u001b[32m, line 1\u001b[39m\n\u001b[32m----> \u001b[39m\u001b[32m1\u001b[39m df_total = \u001b[43mpd\u001b[49m\u001b[43m.\u001b[49m\u001b[43mconcat\u001b[49m\u001b[43m(\u001b[49m\u001b[43m(\u001b[49m\u001b[43mpd\u001b[49m\u001b[43m.\u001b[49m\u001b[43mread_csv\u001b[49m\u001b[43m(\u001b[49m\u001b[43mf\u001b[49m\u001b[43m,\u001b[49m\u001b[43m \u001b[49m\u001b[43mlow_memory\u001b[49m\u001b[43m=\u001b[49m\u001b[38;5;28;43;01mFalse\u001b[39;49;00m\u001b[43m)\u001b[49m\u001b[43m \u001b[49m\u001b[38;5;28;43;01mfor\u001b[39;49;00m\u001b[43m \u001b[49m\u001b[43mf\u001b[49m\u001b[43m \u001b[49m\u001b[38;5;129;43;01min\u001b[39;49;00m\u001b[43m \u001b[49m\u001b[43marchivos\u001b[49m\u001b[43m)\u001b[49m\u001b[43m,\u001b[49m\u001b[43m \u001b[49m\u001b[43mignore_index\u001b[49m\u001b[43m=\u001b[49m\u001b[38;5;28;43;01mTrue\u001b[39;49;00m\u001b[43m)\u001b[49m\n",
      "\u001b[36mFile \u001b[39m\u001b[32m~/Documentos/UNAM-DCD-G33/.venv/lib/python3.11/site-packages/pandas/core/reshape/concat.py:382\u001b[39m, in \u001b[36mconcat\u001b[39m\u001b[34m(objs, axis, join, ignore_index, keys, levels, names, verify_integrity, sort, copy)\u001b[39m\n\u001b[32m    379\u001b[39m \u001b[38;5;28;01melif\u001b[39;00m copy \u001b[38;5;129;01mand\u001b[39;00m using_copy_on_write():\n\u001b[32m    380\u001b[39m     copy = \u001b[38;5;28;01mFalse\u001b[39;00m\n\u001b[32m--> \u001b[39m\u001b[32m382\u001b[39m op = \u001b[43m_Concatenator\u001b[49m\u001b[43m(\u001b[49m\n\u001b[32m    383\u001b[39m \u001b[43m    \u001b[49m\u001b[43mobjs\u001b[49m\u001b[43m,\u001b[49m\n\u001b[32m    384\u001b[39m \u001b[43m    \u001b[49m\u001b[43maxis\u001b[49m\u001b[43m=\u001b[49m\u001b[43maxis\u001b[49m\u001b[43m,\u001b[49m\n\u001b[32m    385\u001b[39m \u001b[43m    \u001b[49m\u001b[43mignore_index\u001b[49m\u001b[43m=\u001b[49m\u001b[43mignore_index\u001b[49m\u001b[43m,\u001b[49m\n\u001b[32m    386\u001b[39m \u001b[43m    \u001b[49m\u001b[43mjoin\u001b[49m\u001b[43m=\u001b[49m\u001b[43mjoin\u001b[49m\u001b[43m,\u001b[49m\n\u001b[32m    387\u001b[39m \u001b[43m    \u001b[49m\u001b[43mkeys\u001b[49m\u001b[43m=\u001b[49m\u001b[43mkeys\u001b[49m\u001b[43m,\u001b[49m\n\u001b[32m    388\u001b[39m \u001b[43m    \u001b[49m\u001b[43mlevels\u001b[49m\u001b[43m=\u001b[49m\u001b[43mlevels\u001b[49m\u001b[43m,\u001b[49m\n\u001b[32m    389\u001b[39m \u001b[43m    \u001b[49m\u001b[43mnames\u001b[49m\u001b[43m=\u001b[49m\u001b[43mnames\u001b[49m\u001b[43m,\u001b[49m\n\u001b[32m    390\u001b[39m \u001b[43m    \u001b[49m\u001b[43mverify_integrity\u001b[49m\u001b[43m=\u001b[49m\u001b[43mverify_integrity\u001b[49m\u001b[43m,\u001b[49m\n\u001b[32m    391\u001b[39m \u001b[43m    \u001b[49m\u001b[43mcopy\u001b[49m\u001b[43m=\u001b[49m\u001b[43mcopy\u001b[49m\u001b[43m,\u001b[49m\n\u001b[32m    392\u001b[39m \u001b[43m    \u001b[49m\u001b[43msort\u001b[49m\u001b[43m=\u001b[49m\u001b[43msort\u001b[49m\u001b[43m,\u001b[49m\n\u001b[32m    393\u001b[39m \u001b[43m\u001b[49m\u001b[43m)\u001b[49m\n\u001b[32m    395\u001b[39m \u001b[38;5;28;01mreturn\u001b[39;00m op.get_result()\n",
      "\u001b[36mFile \u001b[39m\u001b[32m~/Documentos/UNAM-DCD-G33/.venv/lib/python3.11/site-packages/pandas/core/reshape/concat.py:445\u001b[39m, in \u001b[36m_Concatenator.__init__\u001b[39m\u001b[34m(self, objs, axis, join, keys, levels, names, ignore_index, verify_integrity, copy, sort)\u001b[39m\n\u001b[32m    442\u001b[39m \u001b[38;5;28mself\u001b[39m.verify_integrity = verify_integrity\n\u001b[32m    443\u001b[39m \u001b[38;5;28mself\u001b[39m.copy = copy\n\u001b[32m--> \u001b[39m\u001b[32m445\u001b[39m objs, keys = \u001b[38;5;28;43mself\u001b[39;49m\u001b[43m.\u001b[49m\u001b[43m_clean_keys_and_objs\u001b[49m\u001b[43m(\u001b[49m\u001b[43mobjs\u001b[49m\u001b[43m,\u001b[49m\u001b[43m \u001b[49m\u001b[43mkeys\u001b[49m\u001b[43m)\u001b[49m\n\u001b[32m    447\u001b[39m \u001b[38;5;66;03m# figure out what our result ndim is going to be\u001b[39;00m\n\u001b[32m    448\u001b[39m ndims = \u001b[38;5;28mself\u001b[39m._get_ndims(objs)\n",
      "\u001b[36mFile \u001b[39m\u001b[32m~/Documentos/UNAM-DCD-G33/.venv/lib/python3.11/site-packages/pandas/core/reshape/concat.py:507\u001b[39m, in \u001b[36m_Concatenator._clean_keys_and_objs\u001b[39m\u001b[34m(self, objs, keys)\u001b[39m\n\u001b[32m    504\u001b[39m     objs_list = \u001b[38;5;28mlist\u001b[39m(objs)\n\u001b[32m    506\u001b[39m \u001b[38;5;28;01mif\u001b[39;00m \u001b[38;5;28mlen\u001b[39m(objs_list) == \u001b[32m0\u001b[39m:\n\u001b[32m--> \u001b[39m\u001b[32m507\u001b[39m     \u001b[38;5;28;01mraise\u001b[39;00m \u001b[38;5;167;01mValueError\u001b[39;00m(\u001b[33m\"\u001b[39m\u001b[33mNo objects to concatenate\u001b[39m\u001b[33m\"\u001b[39m)\n\u001b[32m    509\u001b[39m \u001b[38;5;28;01mif\u001b[39;00m keys \u001b[38;5;129;01mis\u001b[39;00m \u001b[38;5;28;01mNone\u001b[39;00m:\n\u001b[32m    510\u001b[39m     objs_list = \u001b[38;5;28mlist\u001b[39m(com.not_none(*objs_list))\n",
      "\u001b[31mValueError\u001b[39m: No objects to concatenate"
     ]
    }
   ],
   "source": [
    "df_total = pd.concat((pd.read_csv(f, low_memory=False) for f in archivos), ignore_index=True)"
   ]
  },
  {
   "cell_type": "code",
   "execution_count": 29,
   "id": "180ae03f",
   "metadata": {},
   "outputs": [
    {
     "data": {
      "text/plain": [
       "Genero_Usuario             434670\n",
       "Edad_Usuario               332816\n",
       "Bici                           22\n",
       "Ciclo_Estacion_Retiro      332625\n",
       "Fecha_Retiro               332625\n",
       "Hora_Retiro                332625\n",
       "Ciclo_EstacionArribo      3375836\n",
       "Fecha Arribo              3375836\n",
       "Hora_Arribo                332614\n",
       "Genero_usuario           17058756\n",
       "Edad_usuario             17058756\n",
       "CE_retiro                17058756\n",
       "Fecha_retiro             17058756\n",
       "Hora_retiro              17058756\n",
       "CE_arribo                17058747\n",
       "Fecha_arribo             17058747\n",
       "Hora_arribo              17058747\n",
       "Ciclo_Estacion_Arribo    14348139\n",
       "Fecha_Arribo             14348139\n",
       "dtype: int64"
      ]
     },
     "execution_count": 29,
     "metadata": {},
     "output_type": "execute_result"
    }
   ],
   "source": [
    "df_total.isnull().sum()"
   ]
  },
  {
   "cell_type": "code",
   "execution_count": 30,
   "id": "84903ddf",
   "metadata": {},
   "outputs": [
    {
     "data": {
      "text/html": [
       "<div>\n",
       "<style scoped>\n",
       "    .dataframe tbody tr th:only-of-type {\n",
       "        vertical-align: middle;\n",
       "    }\n",
       "\n",
       "    .dataframe tbody tr th {\n",
       "        vertical-align: top;\n",
       "    }\n",
       "\n",
       "    .dataframe thead th {\n",
       "        text-align: right;\n",
       "    }\n",
       "</style>\n",
       "<table border=\"1\" class=\"dataframe\">\n",
       "  <thead>\n",
       "    <tr style=\"text-align: right;\">\n",
       "      <th></th>\n",
       "      <th>Genero_Usuario</th>\n",
       "      <th>Edad_Usuario</th>\n",
       "      <th>Bici</th>\n",
       "      <th>Ciclo_Estacion_Retiro</th>\n",
       "      <th>Fecha_Retiro</th>\n",
       "      <th>Hora_Retiro</th>\n",
       "      <th>Ciclo_EstacionArribo</th>\n",
       "      <th>Fecha Arribo</th>\n",
       "      <th>Hora_Arribo</th>\n",
       "      <th>Genero_usuario</th>\n",
       "      <th>Edad_usuario</th>\n",
       "      <th>CE_retiro</th>\n",
       "      <th>Fecha_retiro</th>\n",
       "      <th>Hora_retiro</th>\n",
       "      <th>CE_arribo</th>\n",
       "      <th>Fecha_arribo</th>\n",
       "      <th>Hora_arribo</th>\n",
       "      <th>Ciclo_Estacion_Arribo</th>\n",
       "      <th>Fecha_Arribo</th>\n",
       "    </tr>\n",
       "  </thead>\n",
       "  <tbody>\n",
       "    <tr>\n",
       "      <th>17391356</th>\n",
       "      <td>M</td>\n",
       "      <td>43.0</td>\n",
       "      <td>2066074.0</td>\n",
       "      <td>100</td>\n",
       "      <td>31/10/2023</td>\n",
       "      <td>23:55:09</td>\n",
       "      <td>088</td>\n",
       "      <td>31/10/2023</td>\n",
       "      <td>23:59:43</td>\n",
       "      <td>NaN</td>\n",
       "      <td>NaN</td>\n",
       "      <td>NaN</td>\n",
       "      <td>NaN</td>\n",
       "      <td>NaN</td>\n",
       "      <td>NaN</td>\n",
       "      <td>NaN</td>\n",
       "      <td>NaN</td>\n",
       "      <td>NaN</td>\n",
       "      <td>NaN</td>\n",
       "    </tr>\n",
       "    <tr>\n",
       "      <th>17391357</th>\n",
       "      <td>M</td>\n",
       "      <td>24.0</td>\n",
       "      <td>6442966.0</td>\n",
       "      <td>070</td>\n",
       "      <td>31/10/2023</td>\n",
       "      <td>23:43:28</td>\n",
       "      <td>333</td>\n",
       "      <td>31/10/2023</td>\n",
       "      <td>23:59:43</td>\n",
       "      <td>NaN</td>\n",
       "      <td>NaN</td>\n",
       "      <td>NaN</td>\n",
       "      <td>NaN</td>\n",
       "      <td>NaN</td>\n",
       "      <td>NaN</td>\n",
       "      <td>NaN</td>\n",
       "      <td>NaN</td>\n",
       "      <td>NaN</td>\n",
       "      <td>NaN</td>\n",
       "    </tr>\n",
       "    <tr>\n",
       "      <th>17391358</th>\n",
       "      <td>F</td>\n",
       "      <td>29.0</td>\n",
       "      <td>2675080.0</td>\n",
       "      <td>100</td>\n",
       "      <td>31/10/2023</td>\n",
       "      <td>23:55:15</td>\n",
       "      <td>088</td>\n",
       "      <td>31/10/2023</td>\n",
       "      <td>23:59:45</td>\n",
       "      <td>NaN</td>\n",
       "      <td>NaN</td>\n",
       "      <td>NaN</td>\n",
       "      <td>NaN</td>\n",
       "      <td>NaN</td>\n",
       "      <td>NaN</td>\n",
       "      <td>NaN</td>\n",
       "      <td>NaN</td>\n",
       "      <td>NaN</td>\n",
       "      <td>NaN</td>\n",
       "    </tr>\n",
       "    <tr>\n",
       "      <th>17391359</th>\n",
       "      <td>M</td>\n",
       "      <td>30.0</td>\n",
       "      <td>4771028.0</td>\n",
       "      <td>032</td>\n",
       "      <td>31/10/2023</td>\n",
       "      <td>23:44:40</td>\n",
       "      <td>072</td>\n",
       "      <td>31/10/2023</td>\n",
       "      <td>23:59:48</td>\n",
       "      <td>NaN</td>\n",
       "      <td>NaN</td>\n",
       "      <td>NaN</td>\n",
       "      <td>NaN</td>\n",
       "      <td>NaN</td>\n",
       "      <td>NaN</td>\n",
       "      <td>NaN</td>\n",
       "      <td>NaN</td>\n",
       "      <td>NaN</td>\n",
       "      <td>NaN</td>\n",
       "    </tr>\n",
       "    <tr>\n",
       "      <th>17391360</th>\n",
       "      <td>F</td>\n",
       "      <td>36.0</td>\n",
       "      <td>3019684.0</td>\n",
       "      <td>672</td>\n",
       "      <td>31/10/2023</td>\n",
       "      <td>23:55:20</td>\n",
       "      <td>669</td>\n",
       "      <td>31/10/2023</td>\n",
       "      <td>23:59:52</td>\n",
       "      <td>NaN</td>\n",
       "      <td>NaN</td>\n",
       "      <td>NaN</td>\n",
       "      <td>NaN</td>\n",
       "      <td>NaN</td>\n",
       "      <td>NaN</td>\n",
       "      <td>NaN</td>\n",
       "      <td>NaN</td>\n",
       "      <td>NaN</td>\n",
       "      <td>NaN</td>\n",
       "    </tr>\n",
       "  </tbody>\n",
       "</table>\n",
       "</div>"
      ],
      "text/plain": [
       "         Genero_Usuario  Edad_Usuario       Bici Ciclo_Estacion_Retiro  \\\n",
       "17391356              M          43.0  2066074.0                   100   \n",
       "17391357              M          24.0  6442966.0                   070   \n",
       "17391358              F          29.0  2675080.0                   100   \n",
       "17391359              M          30.0  4771028.0                   032   \n",
       "17391360              F          36.0  3019684.0                   672   \n",
       "\n",
       "         Fecha_Retiro Hora_Retiro Ciclo_EstacionArribo Fecha Arribo  \\\n",
       "17391356   31/10/2023    23:55:09                  088   31/10/2023   \n",
       "17391357   31/10/2023    23:43:28                  333   31/10/2023   \n",
       "17391358   31/10/2023    23:55:15                  088   31/10/2023   \n",
       "17391359   31/10/2023    23:44:40                  072   31/10/2023   \n",
       "17391360   31/10/2023    23:55:20                  669   31/10/2023   \n",
       "\n",
       "         Hora_Arribo Genero_usuario  Edad_usuario CE_retiro Fecha_retiro  \\\n",
       "17391356    23:59:43            NaN           NaN       NaN          NaN   \n",
       "17391357    23:59:43            NaN           NaN       NaN          NaN   \n",
       "17391358    23:59:45            NaN           NaN       NaN          NaN   \n",
       "17391359    23:59:48            NaN           NaN       NaN          NaN   \n",
       "17391360    23:59:52            NaN           NaN       NaN          NaN   \n",
       "\n",
       "         Hora_retiro CE_arribo Fecha_arribo Hora_arribo  \\\n",
       "17391356         NaN       NaN          NaN         NaN   \n",
       "17391357         NaN       NaN          NaN         NaN   \n",
       "17391358         NaN       NaN          NaN         NaN   \n",
       "17391359         NaN       NaN          NaN         NaN   \n",
       "17391360         NaN       NaN          NaN         NaN   \n",
       "\n",
       "          Ciclo_Estacion_Arribo Fecha_Arribo  \n",
       "17391356                    NaN          NaN  \n",
       "17391357                    NaN          NaN  \n",
       "17391358                    NaN          NaN  \n",
       "17391359                    NaN          NaN  \n",
       "17391360                    NaN          NaN  "
      ]
     },
     "execution_count": 30,
     "metadata": {},
     "output_type": "execute_result"
    }
   ],
   "source": [
    "df_total.tail()"
   ]
  },
  {
   "cell_type": "code",
   "execution_count": 31,
   "id": "e69ac4d8",
   "metadata": {},
   "outputs": [
    {
     "data": {
      "text/html": [
       "<div>\n",
       "<style scoped>\n",
       "    .dataframe tbody tr th:only-of-type {\n",
       "        vertical-align: middle;\n",
       "    }\n",
       "\n",
       "    .dataframe tbody tr th {\n",
       "        vertical-align: top;\n",
       "    }\n",
       "\n",
       "    .dataframe thead th {\n",
       "        text-align: right;\n",
       "    }\n",
       "</style>\n",
       "<table border=\"1\" class=\"dataframe\">\n",
       "  <thead>\n",
       "    <tr style=\"text-align: right;\">\n",
       "      <th></th>\n",
       "      <th>Genero_Usuario</th>\n",
       "      <th>Edad_Usuario</th>\n",
       "      <th>Bici</th>\n",
       "      <th>Ciclo_Estacion_Retiro</th>\n",
       "      <th>Fecha_Retiro</th>\n",
       "      <th>Hora_Retiro</th>\n",
       "      <th>Ciclo_EstacionArribo</th>\n",
       "      <th>Fecha Arribo</th>\n",
       "      <th>Hora_Arribo</th>\n",
       "      <th>Genero_usuario</th>\n",
       "      <th>Edad_usuario</th>\n",
       "      <th>CE_retiro</th>\n",
       "      <th>Fecha_retiro</th>\n",
       "      <th>Hora_retiro</th>\n",
       "      <th>CE_arribo</th>\n",
       "      <th>Fecha_arribo</th>\n",
       "      <th>Hora_arribo</th>\n",
       "      <th>Ciclo_Estacion_Arribo</th>\n",
       "      <th>Fecha_Arribo</th>\n",
       "    </tr>\n",
       "  </thead>\n",
       "  <tbody>\n",
       "    <tr>\n",
       "      <th>4879548</th>\n",
       "      <td>NaN</td>\n",
       "      <td>NaN</td>\n",
       "      <td>NaN</td>\n",
       "      <td>NaN</td>\n",
       "      <td>NaN</td>\n",
       "      <td>NaN</td>\n",
       "      <td>334</td>\n",
       "      <td>05/01/2022</td>\n",
       "      <td>13:13:07</td>\n",
       "      <td>NaN</td>\n",
       "      <td>NaN</td>\n",
       "      <td>NaN</td>\n",
       "      <td>NaN</td>\n",
       "      <td>NaN</td>\n",
       "      <td>NaN</td>\n",
       "      <td>NaN</td>\n",
       "      <td>NaN</td>\n",
       "      <td>NaN</td>\n",
       "      <td>NaN</td>\n",
       "    </tr>\n",
       "    <tr>\n",
       "      <th>5544531</th>\n",
       "      <td>NaN</td>\n",
       "      <td>NaN</td>\n",
       "      <td>6999999.0</td>\n",
       "      <td>NaN</td>\n",
       "      <td>NaN</td>\n",
       "      <td>NaN</td>\n",
       "      <td>NaN</td>\n",
       "      <td>NaN</td>\n",
       "      <td>NaN</td>\n",
       "      <td>F</td>\n",
       "      <td>26.0</td>\n",
       "      <td>072</td>\n",
       "      <td>28/08/2022</td>\n",
       "      <td>14:00:38</td>\n",
       "      <td>1000</td>\n",
       "      <td>01/09/2022</td>\n",
       "      <td>14:10:29</td>\n",
       "      <td>NaN</td>\n",
       "      <td>NaN</td>\n",
       "    </tr>\n",
       "    <tr>\n",
       "      <th>5544532</th>\n",
       "      <td>NaN</td>\n",
       "      <td>NaN</td>\n",
       "      <td>7389323.0</td>\n",
       "      <td>NaN</td>\n",
       "      <td>NaN</td>\n",
       "      <td>NaN</td>\n",
       "      <td>NaN</td>\n",
       "      <td>NaN</td>\n",
       "      <td>NaN</td>\n",
       "      <td>M</td>\n",
       "      <td>26.0</td>\n",
       "      <td>056</td>\n",
       "      <td>28/08/2022</td>\n",
       "      <td>19:06:21</td>\n",
       "      <td>1000</td>\n",
       "      <td>05/09/2022</td>\n",
       "      <td>14:03:24</td>\n",
       "      <td>NaN</td>\n",
       "      <td>NaN</td>\n",
       "    </tr>\n",
       "    <tr>\n",
       "      <th>5544533</th>\n",
       "      <td>NaN</td>\n",
       "      <td>NaN</td>\n",
       "      <td>13013.0</td>\n",
       "      <td>NaN</td>\n",
       "      <td>NaN</td>\n",
       "      <td>NaN</td>\n",
       "      <td>NaN</td>\n",
       "      <td>NaN</td>\n",
       "      <td>NaN</td>\n",
       "      <td>F</td>\n",
       "      <td>42.0</td>\n",
       "      <td>328</td>\n",
       "      <td>30/08/22</td>\n",
       "      <td>07:31:24</td>\n",
       "      <td>98</td>\n",
       "      <td>21/09/22</td>\n",
       "      <td>16:31:40</td>\n",
       "      <td>NaN</td>\n",
       "      <td>NaN</td>\n",
       "    </tr>\n",
       "    <tr>\n",
       "      <th>5544534</th>\n",
       "      <td>NaN</td>\n",
       "      <td>NaN</td>\n",
       "      <td>8928.0</td>\n",
       "      <td>NaN</td>\n",
       "      <td>NaN</td>\n",
       "      <td>NaN</td>\n",
       "      <td>NaN</td>\n",
       "      <td>NaN</td>\n",
       "      <td>NaN</td>\n",
       "      <td>M</td>\n",
       "      <td>41.0</td>\n",
       "      <td>138</td>\n",
       "      <td>30/08/22</td>\n",
       "      <td>09:27:26</td>\n",
       "      <td>431</td>\n",
       "      <td>01/09/22</td>\n",
       "      <td>10:46:02</td>\n",
       "      <td>NaN</td>\n",
       "      <td>NaN</td>\n",
       "    </tr>\n",
       "    <tr>\n",
       "      <th>...</th>\n",
       "      <td>...</td>\n",
       "      <td>...</td>\n",
       "      <td>...</td>\n",
       "      <td>...</td>\n",
       "      <td>...</td>\n",
       "      <td>...</td>\n",
       "      <td>...</td>\n",
       "      <td>...</td>\n",
       "      <td>...</td>\n",
       "      <td>...</td>\n",
       "      <td>...</td>\n",
       "      <td>...</td>\n",
       "      <td>...</td>\n",
       "      <td>...</td>\n",
       "      <td>...</td>\n",
       "      <td>...</td>\n",
       "      <td>...</td>\n",
       "      <td>...</td>\n",
       "      <td>...</td>\n",
       "    </tr>\n",
       "    <tr>\n",
       "      <th>12703386</th>\n",
       "      <td>NaN</td>\n",
       "      <td>NaN</td>\n",
       "      <td>NaN</td>\n",
       "      <td>NaN</td>\n",
       "      <td>NaN</td>\n",
       "      <td>NaN</td>\n",
       "      <td>NaN</td>\n",
       "      <td>NaN</td>\n",
       "      <td>12:12:34</td>\n",
       "      <td>NaN</td>\n",
       "      <td>NaN</td>\n",
       "      <td>NaN</td>\n",
       "      <td>NaN</td>\n",
       "      <td>NaN</td>\n",
       "      <td>NaN</td>\n",
       "      <td>NaN</td>\n",
       "      <td>NaN</td>\n",
       "      <td>158.0</td>\n",
       "      <td>01/02/2022</td>\n",
       "    </tr>\n",
       "    <tr>\n",
       "      <th>12703387</th>\n",
       "      <td>NaN</td>\n",
       "      <td>NaN</td>\n",
       "      <td>NaN</td>\n",
       "      <td>NaN</td>\n",
       "      <td>NaN</td>\n",
       "      <td>NaN</td>\n",
       "      <td>NaN</td>\n",
       "      <td>NaN</td>\n",
       "      <td>16:24:18</td>\n",
       "      <td>NaN</td>\n",
       "      <td>NaN</td>\n",
       "      <td>NaN</td>\n",
       "      <td>NaN</td>\n",
       "      <td>NaN</td>\n",
       "      <td>NaN</td>\n",
       "      <td>NaN</td>\n",
       "      <td>NaN</td>\n",
       "      <td>144.0</td>\n",
       "      <td>10/02/2022</td>\n",
       "    </tr>\n",
       "    <tr>\n",
       "      <th>12703388</th>\n",
       "      <td>NaN</td>\n",
       "      <td>NaN</td>\n",
       "      <td>NaN</td>\n",
       "      <td>NaN</td>\n",
       "      <td>NaN</td>\n",
       "      <td>NaN</td>\n",
       "      <td>NaN</td>\n",
       "      <td>NaN</td>\n",
       "      <td>12:41:17</td>\n",
       "      <td>NaN</td>\n",
       "      <td>NaN</td>\n",
       "      <td>NaN</td>\n",
       "      <td>NaN</td>\n",
       "      <td>NaN</td>\n",
       "      <td>NaN</td>\n",
       "      <td>NaN</td>\n",
       "      <td>NaN</td>\n",
       "      <td>126.0</td>\n",
       "      <td>27/02/2022</td>\n",
       "    </tr>\n",
       "    <tr>\n",
       "      <th>12703389</th>\n",
       "      <td>NaN</td>\n",
       "      <td>NaN</td>\n",
       "      <td>NaN</td>\n",
       "      <td>NaN</td>\n",
       "      <td>NaN</td>\n",
       "      <td>NaN</td>\n",
       "      <td>NaN</td>\n",
       "      <td>NaN</td>\n",
       "      <td>16:24:18</td>\n",
       "      <td>NaN</td>\n",
       "      <td>NaN</td>\n",
       "      <td>NaN</td>\n",
       "      <td>NaN</td>\n",
       "      <td>NaN</td>\n",
       "      <td>NaN</td>\n",
       "      <td>NaN</td>\n",
       "      <td>NaN</td>\n",
       "      <td>144.0</td>\n",
       "      <td>10/02/2022</td>\n",
       "    </tr>\n",
       "    <tr>\n",
       "      <th>15989580</th>\n",
       "      <td>NaN</td>\n",
       "      <td>NaN</td>\n",
       "      <td>NaN</td>\n",
       "      <td>NaN</td>\n",
       "      <td>NaN</td>\n",
       "      <td>NaN</td>\n",
       "      <td>NaN</td>\n",
       "      <td>NaN</td>\n",
       "      <td>13:16:27</td>\n",
       "      <td>NaN</td>\n",
       "      <td>NaN</td>\n",
       "      <td>NaN</td>\n",
       "      <td>NaN</td>\n",
       "      <td>NaN</td>\n",
       "      <td>NaN</td>\n",
       "      <td>NaN</td>\n",
       "      <td>NaN</td>\n",
       "      <td>140.0</td>\n",
       "      <td>11/06/2022</td>\n",
       "    </tr>\n",
       "  </tbody>\n",
       "</table>\n",
       "<p>332625 rows × 19 columns</p>\n",
       "</div>"
      ],
      "text/plain": [
       "         Genero_Usuario  Edad_Usuario       Bici Ciclo_Estacion_Retiro  \\\n",
       "4879548             NaN           NaN        NaN                   NaN   \n",
       "5544531             NaN           NaN  6999999.0                   NaN   \n",
       "5544532             NaN           NaN  7389323.0                   NaN   \n",
       "5544533             NaN           NaN    13013.0                   NaN   \n",
       "5544534             NaN           NaN     8928.0                   NaN   \n",
       "...                 ...           ...        ...                   ...   \n",
       "12703386            NaN           NaN        NaN                   NaN   \n",
       "12703387            NaN           NaN        NaN                   NaN   \n",
       "12703388            NaN           NaN        NaN                   NaN   \n",
       "12703389            NaN           NaN        NaN                   NaN   \n",
       "15989580            NaN           NaN        NaN                   NaN   \n",
       "\n",
       "         Fecha_Retiro Hora_Retiro Ciclo_EstacionArribo Fecha Arribo  \\\n",
       "4879548           NaN         NaN                  334   05/01/2022   \n",
       "5544531           NaN         NaN                  NaN          NaN   \n",
       "5544532           NaN         NaN                  NaN          NaN   \n",
       "5544533           NaN         NaN                  NaN          NaN   \n",
       "5544534           NaN         NaN                  NaN          NaN   \n",
       "...               ...         ...                  ...          ...   \n",
       "12703386          NaN         NaN                  NaN          NaN   \n",
       "12703387          NaN         NaN                  NaN          NaN   \n",
       "12703388          NaN         NaN                  NaN          NaN   \n",
       "12703389          NaN         NaN                  NaN          NaN   \n",
       "15989580          NaN         NaN                  NaN          NaN   \n",
       "\n",
       "         Hora_Arribo Genero_usuario  Edad_usuario CE_retiro Fecha_retiro  \\\n",
       "4879548     13:13:07            NaN           NaN       NaN          NaN   \n",
       "5544531          NaN              F          26.0       072   28/08/2022   \n",
       "5544532          NaN              M          26.0       056   28/08/2022   \n",
       "5544533          NaN              F          42.0       328     30/08/22   \n",
       "5544534          NaN              M          41.0       138     30/08/22   \n",
       "...              ...            ...           ...       ...          ...   \n",
       "12703386    12:12:34            NaN           NaN       NaN          NaN   \n",
       "12703387    16:24:18            NaN           NaN       NaN          NaN   \n",
       "12703388    12:41:17            NaN           NaN       NaN          NaN   \n",
       "12703389    16:24:18            NaN           NaN       NaN          NaN   \n",
       "15989580    13:16:27            NaN           NaN       NaN          NaN   \n",
       "\n",
       "         Hora_retiro CE_arribo Fecha_arribo Hora_arribo  \\\n",
       "4879548          NaN       NaN          NaN         NaN   \n",
       "5544531     14:00:38      1000   01/09/2022    14:10:29   \n",
       "5544532     19:06:21      1000   05/09/2022    14:03:24   \n",
       "5544533     07:31:24        98     21/09/22    16:31:40   \n",
       "5544534     09:27:26       431     01/09/22    10:46:02   \n",
       "...              ...       ...          ...         ...   \n",
       "12703386         NaN       NaN          NaN         NaN   \n",
       "12703387         NaN       NaN          NaN         NaN   \n",
       "12703388         NaN       NaN          NaN         NaN   \n",
       "12703389         NaN       NaN          NaN         NaN   \n",
       "15989580         NaN       NaN          NaN         NaN   \n",
       "\n",
       "          Ciclo_Estacion_Arribo Fecha_Arribo  \n",
       "4879548                     NaN          NaN  \n",
       "5544531                     NaN          NaN  \n",
       "5544532                     NaN          NaN  \n",
       "5544533                     NaN          NaN  \n",
       "5544534                     NaN          NaN  \n",
       "...                         ...          ...  \n",
       "12703386                  158.0   01/02/2022  \n",
       "12703387                  144.0   10/02/2022  \n",
       "12703388                  126.0   27/02/2022  \n",
       "12703389                  144.0   10/02/2022  \n",
       "15989580                  140.0   11/06/2022  \n",
       "\n",
       "[332625 rows x 19 columns]"
      ]
     },
     "execution_count": 31,
     "metadata": {},
     "output_type": "execute_result"
    }
   ],
   "source": [
    "df_total[df_total['Ciclo_Estacion_Retiro'].isnull()]"
   ]
  },
  {
   "cell_type": "code",
   "execution_count": 32,
   "id": "69c9cb1a",
   "metadata": {},
   "outputs": [],
   "source": [
    "# Combinar: si la primera es NaN, usa la segunda para 2022 y 2023\n",
    "df_total['Genero_Usuario'] = df_total['Genero_Usuario'].fillna(df_total['Genero_usuario'])\n",
    "df_total['Edad_Usuario'] = df_total['Edad_Usuario'].fillna(df_total['Edad_usuario'])\n",
    "df_total['Ciclo_Estacion_Retiro'] = df_total['Ciclo_Estacion_Retiro'].fillna(df_total['CE_retiro'])\n",
    "df_total['Fecha_Retiro'] = df_total['Fecha_Retiro'].fillna(df_total['Fecha_retiro'])\n",
    "df_total['Hora_Retiro'] = df_total['Hora_Retiro'].fillna(df_total['Hora_retiro'])\n",
    "df_total['Ciclo_Estacion_Arribo'] = (df_total['Ciclo_Estacion_Arribo'].fillna(df_total['CE_arribo']).fillna(df_total['Ciclo_EstacionArribo']))\n",
    "df_total['Fecha_Arribo'] = (df_total['Fecha_Arribo'].fillna(df_total['Fecha_arribo']).fillna(df_total['Fecha Arribo']))\n",
    "df_total['Hora_Arribo'] = df_total['Hora_Arribo'].fillna(df_total['Hora_arribo'])\n",
    "df_total = df_total.drop(columns=['Genero_usuario', 'Edad_usuario', 'CE_retiro', 'Fecha_retiro',\n",
    "                                  'Hora_retiro', 'CE_arribo', 'Ciclo_EstacionArribo', 'Fecha_arribo',\n",
    "                                  'Fecha Arribo', 'Hora_arribo'])"
   ]
  },
  {
   "cell_type": "code",
   "execution_count": 33,
   "id": "84cd8ab7",
   "metadata": {},
   "outputs": [],
   "source": [
    "# Combinar: si la primera es NaN, usa la segunda para 2020 y 2021\n",
    "#df_total['Bici'] = df_total['Bici'].fillna(df_total['BikeID'])\n",
    "#df_total['Hora_Retiro'] = df_total['Hora_Retiro'].fillna(df_total['Hora_Retiro.1'])\n",
    "#df_total['Ciclo_EstacionArribo'] = df_total['Ciclo_EstacionArribo'].fillna(df_total['Ciclo_Estacion_Arribo'])\n",
    "#df_total['Fecha_Arribo'] = df_total['Fecha_Arribo'].fillna(df_total['Fecha Arribo'])\n",
    "#df_total['Hora_Arribo'] = df_total['Hora_Arribo'].fillna(df_total['Hora Arribo'])\n",
    "#df_total = df_total.drop(columns=['BikeID', 'Hora_Retiro.1', 'Ciclo_Estacion_Arribo', 'Fecha Arribo', 'Hora Arribo'])"
   ]
  },
  {
   "cell_type": "code",
   "execution_count": 34,
   "id": "bd4de326",
   "metadata": {},
   "outputs": [],
   "source": [
    "#Columna 'Unnamed: 9 al leer 2018 y 2019\n",
    "# df_total['Unnamed: 9'].value_counts()\n",
    "\n",
    "# para el registro con de la columna es la hora de arribo\n",
    "#df_total[df_total['Unnamed: 9']=='08:41:11']\n",
    "\n",
    "# Ciclo_Estacion_Arribo: 10, Fecha_Arribo: 2019-03-06, Hora_Arribo: 08:41:11\n",
    "\n",
    "#fila = 14218639  # índice de la fila que quieres mover\n",
    "#df_total.iloc[fila, 6:9] = df_total.iloc[fila, [7, 4, 9]].values\n",
    "\n",
    "# Eliminar columna 'Unnamed: 9'\n",
    "#df_total = df_total.drop(columns=['Unnamed: 9'])"
   ]
  },
  {
   "cell_type": "code",
   "execution_count": 35,
   "id": "1ad72438",
   "metadata": {},
   "outputs": [
    {
     "data": {
      "text/plain": [
       "Index(['Genero_Usuario', 'Edad_Usuario', 'Bici', 'Ciclo_Estacion_Retiro',\n",
       "       'Fecha_Retiro', 'Hora_Retiro', 'Hora_Arribo', 'Ciclo_Estacion_Arribo',\n",
       "       'Fecha_Arribo'],\n",
       "      dtype='object')"
      ]
     },
     "execution_count": 35,
     "metadata": {},
     "output_type": "execute_result"
    }
   ],
   "source": [
    "df_total.columns"
   ]
  },
  {
   "cell_type": "code",
   "execution_count": 36,
   "id": "3b854e8e",
   "metadata": {},
   "outputs": [],
   "source": [
    "# Ordenamos para 2022 y 2023\n",
    "df_total = df_total[['Genero_Usuario', 'Edad_Usuario', 'Bici', 'Ciclo_Estacion_Retiro',\n",
    "       'Fecha_Retiro', 'Hora_Retiro', 'Ciclo_Estacion_Arribo', 'Fecha_Arribo','Hora_Arribo']]"
   ]
  },
  {
   "cell_type": "code",
   "execution_count": 37,
   "id": "99f123d7",
   "metadata": {},
   "outputs": [],
   "source": [
    "# Para 2022 y 2023 primero se ordenaron las columnas\n",
    "nuevos_nombres = [\n",
    "    'Genero_Usuario', 'Edad_Usuario', 'Bici', 'Ciclo_Estacion_Retiro',\n",
    "       'Fecha_Retiro', 'Hora_Retiro', 'Ciclo_EstacionArribo', 'Fecha_Arribo',\n",
    "       'Hora_Arribo'\n",
    "]\n",
    "df_total.columns = nuevos_nombres"
   ]
  },
  {
   "cell_type": "code",
   "execution_count": 38,
   "id": "c8fd01bb",
   "metadata": {},
   "outputs": [],
   "source": [
    "df_total['Fecha_Retiro'] = pd.to_datetime(df_total['Fecha_Retiro'], format='mixed') #format='mixed', format='%Y-%m-%d', format='%d-%m-%Y' Se fue variando dependiendo el formato con que venian los datos"
   ]
  },
  {
   "cell_type": "code",
   "execution_count": 39,
   "id": "735bb809",
   "metadata": {},
   "outputs": [],
   "source": [
    "df_total['Fecha_Arribo'] = pd.to_datetime(df_total['Fecha_Arribo'], format='mixed') # Se fue variando dependiendo el formato con que venian los datos"
   ]
  },
  {
   "cell_type": "code",
   "execution_count": 40,
   "id": "384b5433",
   "metadata": {},
   "outputs": [
    {
     "data": {
      "text/plain": [
       "Genero_Usuario           102065\n",
       "Edad_Usuario                211\n",
       "Bici                         22\n",
       "Ciclo_Estacion_Retiro        20\n",
       "Fecha_Retiro                 20\n",
       "Hora_Retiro                  20\n",
       "Ciclo_EstacionArribo          0\n",
       "Fecha_Arribo                  0\n",
       "Hora_Arribo                   0\n",
       "dtype: int64"
      ]
     },
     "execution_count": 40,
     "metadata": {},
     "output_type": "execute_result"
    }
   ],
   "source": [
    "df_total.isnull().sum()"
   ]
  },
  {
   "cell_type": "code",
   "execution_count": 41,
   "id": "2b787fce",
   "metadata": {},
   "outputs": [
    {
     "data": {
      "text/plain": [
       "np.int64(20)"
      ]
     },
     "execution_count": 41,
     "metadata": {},
     "output_type": "execute_result"
    }
   ],
   "source": [
    "df_total['Fecha_Retiro'].isnull().sum()"
   ]
  },
  {
   "cell_type": "code",
   "execution_count": 42,
   "id": "df2bce70",
   "metadata": {},
   "outputs": [
    {
     "data": {
      "text/plain": [
       "(np.int64(0),\n",
       " Timestamp('2023-12-31 00:00:00'),\n",
       " Timestamp('2022-01-01 00:00:00'))"
      ]
     },
     "execution_count": 42,
     "metadata": {},
     "output_type": "execute_result"
    }
   ],
   "source": [
    "df_total['Fecha_Arribo'].isnull().sum(), df_total['Fecha_Arribo'].max(), df_total['Fecha_Arribo'].min()"
   ]
  },
  {
   "cell_type": "code",
   "execution_count": 43,
   "id": "d37d8404",
   "metadata": {},
   "outputs": [],
   "source": [
    "# Combinar: si la primera es NaN, usa la segunda para 2024 y 2025\n",
    "# df_total['Fecha_Arribo'] = df_total['Fecha_Arribo'].fillna(df_total['Fecha Arribo'])\n",
    "# df_total = df_total.drop(columns=['Fecha Arribo'])"
   ]
  },
  {
   "cell_type": "code",
   "execution_count": 44,
   "id": "2576ed4e",
   "metadata": {},
   "outputs": [
    {
     "name": "stdout",
     "output_type": "stream",
     "text": [
      "<class 'pandas.core.frame.DataFrame'>\n",
      "RangeIndex: 17391361 entries, 0 to 17391360\n",
      "Data columns (total 9 columns):\n",
      " #   Column                 Dtype         \n",
      "---  ------                 -----         \n",
      " 0   Genero_Usuario         object        \n",
      " 1   Edad_Usuario           float64       \n",
      " 2   Bici                   float64       \n",
      " 3   Ciclo_Estacion_Retiro  object        \n",
      " 4   Fecha_Retiro           datetime64[ns]\n",
      " 5   Hora_Retiro            object        \n",
      " 6   Ciclo_EstacionArribo   object        \n",
      " 7   Fecha_Arribo           datetime64[ns]\n",
      " 8   Hora_Arribo            object        \n",
      "dtypes: datetime64[ns](2), float64(2), object(5)\n",
      "memory usage: 1.2+ GB\n"
     ]
    }
   ],
   "source": [
    "df_total.info()"
   ]
  },
  {
   "cell_type": "code",
   "execution_count": 45,
   "id": "dfb16cb4",
   "metadata": {},
   "outputs": [
    {
     "name": "stdout",
     "output_type": "stream",
     "text": [
      "20\n",
      "0\n"
     ]
    }
   ],
   "source": [
    "print(df_total['Hora_Retiro'].isnull().sum())\n",
    "print(df_total['Hora_Arribo'].isnull().sum())"
   ]
  },
  {
   "cell_type": "code",
   "execution_count": 46,
   "id": "fc5c1569",
   "metadata": {},
   "outputs": [],
   "source": [
    "df_total['Hora_Retiro'] = df_total['Hora_Retiro'].astype(str).str.split('.').str[0]\n",
    "df_total['Hora_Arribo'] = df_total['Hora_Arribo'].astype(str).str.split('.').str[0]"
   ]
  },
  {
   "cell_type": "code",
   "execution_count": 47,
   "id": "bb5981c3",
   "metadata": {},
   "outputs": [
    {
     "name": "stdout",
     "output_type": "stream",
     "text": [
      "<class 'pandas.core.frame.DataFrame'>\n",
      "RangeIndex: 17391361 entries, 0 to 17391360\n",
      "Data columns (total 9 columns):\n",
      " #   Column                 Dtype         \n",
      "---  ------                 -----         \n",
      " 0   Genero_Usuario         object        \n",
      " 1   Edad_Usuario           float64       \n",
      " 2   Bici                   float64       \n",
      " 3   Ciclo_Estacion_Retiro  object        \n",
      " 4   Fecha_Retiro           datetime64[ns]\n",
      " 5   Hora_Retiro            object        \n",
      " 6   Ciclo_EstacionArribo   object        \n",
      " 7   Fecha_Arribo           datetime64[ns]\n",
      " 8   Hora_Arribo            object        \n",
      "dtypes: datetime64[ns](2), float64(2), object(5)\n",
      "memory usage: 1.2+ GB\n"
     ]
    }
   ],
   "source": [
    "df_total.info()"
   ]
  },
  {
   "cell_type": "code",
   "execution_count": 48,
   "id": "f10c4474",
   "metadata": {},
   "outputs": [],
   "source": [
    "df_total['Hora_Retiro'] = (\n",
    "    df_total['Hora_Retiro']\n",
    "    .astype(str)\n",
    "    .str.replace(r'^(\\d{1,2})[:]{1,2}$', r'\\1:00:00', regex=True)  # Corrige casos como 18:: o 9:\n",
    ")\n",
    "df_total['Hora_Arribo'] = (\n",
    "    df_total['Hora_Arribo']\n",
    "    .astype(str)\n",
    "    .str.replace(r'^(\\d{1,2})[:]{1,2}$', r'\\1:00:00', regex=True)  # Corrige casos como 18:: o 9:\n",
    ")"
   ]
  },
  {
   "cell_type": "code",
   "execution_count": 49,
   "id": "922a59a8",
   "metadata": {},
   "outputs": [],
   "source": [
    "# Convertir a formato de hora 10 min 1.2+GB\n",
    "df_total['Hora_Retiro'] = pd.to_datetime(df_total['Hora_Retiro'], format='mixed').dt.time #'%H:%M:%S'\n",
    "df_total['Hora_Arribo'] = pd.to_datetime(df_total['Hora_Arribo'], format='mixed').dt.time"
   ]
  },
  {
   "cell_type": "code",
   "execution_count": 50,
   "id": "cc484a16",
   "metadata": {},
   "outputs": [
    {
     "name": "stdout",
     "output_type": "stream",
     "text": [
      "20\n",
      "0\n"
     ]
    }
   ],
   "source": [
    "print(df_total['Hora_Retiro'].isnull().sum())\n",
    "print(df_total['Hora_Arribo'].isnull().sum())"
   ]
  },
  {
   "cell_type": "code",
   "execution_count": 51,
   "id": "07fff8cc",
   "metadata": {},
   "outputs": [],
   "source": [
    "# Crear columna con el año\n",
    "df_total['Anio'] = df_total['Fecha_Arribo'].dt.year"
   ]
  },
  {
   "cell_type": "code",
   "execution_count": 52,
   "id": "7eee8473",
   "metadata": {},
   "outputs": [
    {
     "data": {
      "text/html": [
       "<div>\n",
       "<style scoped>\n",
       "    .dataframe tbody tr th:only-of-type {\n",
       "        vertical-align: middle;\n",
       "    }\n",
       "\n",
       "    .dataframe tbody tr th {\n",
       "        vertical-align: top;\n",
       "    }\n",
       "\n",
       "    .dataframe thead th {\n",
       "        text-align: right;\n",
       "    }\n",
       "</style>\n",
       "<table border=\"1\" class=\"dataframe\">\n",
       "  <thead>\n",
       "    <tr style=\"text-align: right;\">\n",
       "      <th></th>\n",
       "      <th>Genero_Usuario</th>\n",
       "      <th>Edad_Usuario</th>\n",
       "      <th>Bici</th>\n",
       "      <th>Ciclo_Estacion_Retiro</th>\n",
       "      <th>Fecha_Retiro</th>\n",
       "      <th>Hora_Retiro</th>\n",
       "      <th>Ciclo_EstacionArribo</th>\n",
       "      <th>Fecha_Arribo</th>\n",
       "      <th>Hora_Arribo</th>\n",
       "      <th>Anio</th>\n",
       "    </tr>\n",
       "  </thead>\n",
       "  <tbody>\n",
       "    <tr>\n",
       "      <th>0</th>\n",
       "      <td>M</td>\n",
       "      <td>44.0</td>\n",
       "      <td>8428948.0</td>\n",
       "      <td>011</td>\n",
       "      <td>2023-05-31</td>\n",
       "      <td>23:17:14</td>\n",
       "      <td>341</td>\n",
       "      <td>2023-01-06</td>\n",
       "      <td>00:00:14</td>\n",
       "      <td>2023</td>\n",
       "    </tr>\n",
       "  </tbody>\n",
       "</table>\n",
       "</div>"
      ],
      "text/plain": [
       "  Genero_Usuario  Edad_Usuario       Bici Ciclo_Estacion_Retiro Fecha_Retiro  \\\n",
       "0              M          44.0  8428948.0                   011   2023-05-31   \n",
       "\n",
       "  Hora_Retiro Ciclo_EstacionArribo Fecha_Arribo Hora_Arribo  Anio  \n",
       "0    23:17:14                  341   2023-01-06    00:00:14  2023  "
      ]
     },
     "execution_count": 52,
     "metadata": {},
     "output_type": "execute_result"
    }
   ],
   "source": [
    "df_total.head(1)"
   ]
  },
  {
   "cell_type": "code",
   "execution_count": 53,
   "id": "ce05c382",
   "metadata": {},
   "outputs": [
    {
     "name": "stdout",
     "output_type": "stream",
     "text": [
      "Archivo guardado: segmento_2022.csv (5213813 filas)\n",
      "Archivo guardado: segmento_2023.csv (12177548 filas)\n"
     ]
    }
   ],
   "source": [
    "# Segmentar por año y guardar cada uno\n",
    "for anio, grupo in df_total.groupby('Anio'):\n",
    "    if pd.notna(anio):\n",
    "        nombre = f\"segmento_{int(anio)}.csv\"\n",
    "        grupo.to_csv(nombre, index=False)\n",
    "        print(f\"Archivo guardado: {nombre} ({len(grupo)} filas)\")"
   ]
  },
  {
   "cell_type": "markdown",
   "id": "9c3ce479",
   "metadata": {},
   "source": [
    "## Realizar el proceso anterior primero"
   ]
  },
  {
   "cell_type": "code",
   "execution_count": 4,
   "id": "c7f6e5c2",
   "metadata": {},
   "outputs": [
    {
     "name": "stdout",
     "output_type": "stream",
     "text": [
      "Primera fila de ../../../Documentos/Proyectos - Diplomado/Ecobici/segmento_2010.csv:\n",
      "  Genero_Usuario  Edad_Usuario  Bici  Ciclo_Estacion_Retiro Fecha_Retiro  \\\n",
      "0              M            35    68                     38   2010-06-01   \n",
      "\n",
      "  Hora_Retiro  Ciclo_EstacionArribo Fecha_Arribo Hora_Arribo  Anio  \n",
      "0    00:03:10                    19   2010-06-01    00:13:41  2010  \n",
      "Primera fila de ../../../Documentos/Proyectos - Diplomado/Ecobici/segmento_2011.csv:\n",
      "  Genero_Usuario  Edad_Usuario  Bici  Ciclo_Estacion_Retiro Fecha_Retiro  \\\n",
      "0              M            35   480                     71   2011-02-01   \n",
      "\n",
      "  Hora_Retiro  Ciclo_EstacionArribo Fecha_Arribo Hora_Arribo  Anio  \n",
      "0    00:00:02                    49   2011-02-01    00:05:20  2011  \n",
      "Primera fila de ../../../Documentos/Proyectos - Diplomado/Ecobici/segmento_2012.csv:\n",
      "  Genero_Usuario  Edad_Usuario  Bici  Ciclo_Estacion_Retiro Fecha_Retiro  \\\n",
      "0              M            33  1217                     36   2012-07-01   \n",
      "\n",
      "  Hora_Retiro  Ciclo_EstacionArribo Fecha_Arribo Hora_Arribo  Anio  \n",
      "0    00:00:11                    75   2012-07-01    00:07:20  2012  \n",
      "Primera fila de ../../../Documentos/Proyectos - Diplomado/Ecobici/segmento_2013.csv:\n",
      "  Genero_Usuario  Edad_Usuario  Bici  Ciclo_Estacion_Retiro Fecha_Retiro  \\\n",
      "0              M            27   275                    217   2013-03-01   \n",
      "\n",
      "  Hora_Retiro  Ciclo_EstacionArribo Fecha_Arribo Hora_Arribo  Anio  \n",
      "0    00:00:08                   248   2013-03-01    00:07:48  2013  \n",
      "Primera fila de ../../../Documentos/Proyectos - Diplomado/Ecobici/segmento_2014.csv:\n",
      "  Genero_Usuario  Edad_Usuario  Bici  Ciclo_Estacion_Retiro Fecha_Retiro  \\\n",
      "0              M            55    49                     25   2014-10-01   \n",
      "\n",
      "  Hora_Retiro  Ciclo_EstacionArribo Fecha_Arribo Hora_Arribo  Anio  \n",
      "0    00:00:13                    86   2014-10-01    00:07:12  2014  \n",
      "Primera fila de ../../../Documentos/Proyectos - Diplomado/Ecobici/segmento_2015.csv:\n",
      "  Genero_Usuario  Edad_Usuario  Bici  Ciclo_Estacion_Retiro Fecha_Retiro  \\\n",
      "0              M            32  4773                    127   2015-12-01   \n",
      "\n",
      "  Hora_Retiro  Ciclo_EstacionArribo Fecha_Arribo Hora_Arribo  Anio  \n",
      "0    00:00:40                   153   2015-12-01    00:14:19  2015  \n",
      "Primera fila de ../../../Documentos/Proyectos - Diplomado/Ecobici/segmento_2016.csv:\n",
      "  Genero_Usuario  Edad_Usuario  Bici  Ciclo_Estacion_Retiro Fecha_Retiro  \\\n",
      "0              F            40  2203                    315   2016-05-01   \n",
      "\n",
      "  Hora_Retiro  Ciclo_EstacionArribo Fecha_Arribo Hora_Arribo  Anio  \n",
      "0    00:00:44                   372   2016-05-01    00:08:32  2016  \n",
      "Primera fila de ../../../Documentos/Proyectos - Diplomado/Ecobici/segmento_2017.csv:\n",
      "  Genero_Usuario  Edad_Usuario  Bici  Ciclo_Estacion_Retiro Fecha_Retiro  \\\n",
      "0              M            33  4176                    146   2017-01-12   \n",
      "\n",
      "  Hora_Retiro  Ciclo_EstacionArribo Fecha_Arribo Hora_Arribo  Anio  \n",
      "0    00:00:21                   127   2017-01-12    00:11:10  2017  \n",
      "Primera fila de ../../../Documentos/Proyectos - Diplomado/Ecobici/segmento_2018.csv:\n",
      "  Genero_Usuario  Edad_Usuario   Bici  Ciclo_Estacion_Retiro Fecha_Retiro  \\\n",
      "0              M            32  10060                    236   2018-01-05   \n",
      "\n",
      "  Hora_Retiro  Ciclo_EstacionArribo Fecha_Arribo Hora_Arribo  Anio  \n",
      "0    00:00:52                   215   2018-01-05    00:03:42  2018  \n",
      "Primera fila de ../../../Documentos/Proyectos - Diplomado/Ecobici/segmento_2019.csv:\n",
      "  Genero_Usuario  Edad_Usuario  Bici  Ciclo_Estacion_Retiro Fecha_Retiro  \\\n",
      "0              M            33  7509                     51   2019-01-06   \n",
      "\n",
      "  Hora_Retiro  Ciclo_EstacionArribo Fecha_Arribo Hora_Arribo  Anio  \n",
      "0    00:01:14                    53   2019-01-06    00:24:20  2019  \n",
      "Primera fila de ../../../Documentos/Proyectos - Diplomado/Ecobici/segmento_2020.csv:\n",
      "  Genero_Usuario  Edad_Usuario    Bici  Ciclo_Estacion_Retiro Fecha_Retiro  \\\n",
      "0              M          37.0  6958.0                  470.0   2020-01-10   \n",
      "\n",
      "  Hora_Retiro  Ciclo_EstacionArribo Fecha_Arribo Hora_Arribo    Anio  \n",
      "0    05:52:34                 271.0   2020-01-10    06:09:22  2020.0  \n",
      "Primera fila de ../../../Documentos/Proyectos - Diplomado/Ecobici/segmento_2021.csv:\n",
      "  Genero_Usuario  Edad_Usuario    Bici  Ciclo_Estacion_Retiro Fecha_Retiro  \\\n",
      "0              M          32.0  7608.0                   18.0   2021-01-01   \n",
      "\n",
      "  Hora_Retiro  Ciclo_EstacionArribo Fecha_Arribo Hora_Arribo    Anio  \n",
      "0    07:05:04                 143.0   2021-01-01    07:13:25  2021.0  \n",
      "Primera fila de ../../../Documentos/Proyectos - Diplomado/Ecobici/segmento_2022.csv:\n",
      "  Genero_Usuario  Edad_Usuario       Bici  Ciclo_Estacion_Retiro Fecha_Retiro  \\\n",
      "0              M          24.0  8015364.0                    112   2022-09-30   \n",
      "\n",
      "  Hora_Retiro  Ciclo_EstacionArribo Fecha_Arribo Hora_Arribo  Anio  \n",
      "0    23:22:32                   102   2022-01-10    00:01:58  2022  \n",
      "Primera fila de ../../../Documentos/Proyectos - Diplomado/Ecobici/segmento_2023.csv:\n",
      "  Genero_Usuario  Edad_Usuario       Bici  Ciclo_Estacion_Retiro Fecha_Retiro  \\\n",
      "0              M          44.0  8428948.0                     11   2023-05-31   \n",
      "\n",
      "  Hora_Retiro  Ciclo_EstacionArribo Fecha_Arribo Hora_Arribo  Anio  \n",
      "0    23:17:14                   341   2023-01-06    00:00:14  2023  \n"
     ]
    }
   ],
   "source": [
    "# leer la primera fila de cada archivo guardado\n",
    "for anio in range(2010, 2024):\n",
    "    nombre = f\"../../../Documentos/Proyectos - Diplomado/Ecobici/segmento_{anio}.csv\"\n",
    "    df_segmento = pd.read_csv(nombre, nrows=1)\n",
    "    print(f\"Primera fila de {nombre}:\")\n",
    "    print(df_segmento)"
   ]
  },
  {
   "cell_type": "code",
   "execution_count": 6,
   "id": "5c8c13ee",
   "metadata": {},
   "outputs": [],
   "source": [
    "# Leer el archivo por partes, asignandole el tipo de dato correcto\n",
    "dtypes = {\n",
    "  'Genero_Usuario':         'string',\n",
    "  'Edad_Usuario':           'Int32',\n",
    "  'Bici':                   'string',\n",
    "  'Ciclo_Estacion_Retiro':  'string',\n",
    "  'Fecha_Retiro':           'string',\n",
    "  'Hora_Retiro':            'string',\n",
    "  'Ciclo_EstacionArribo':  'string',\n",
    "  'Fecha_Arribo':           'string',\n",
    "  'Hora_Arribo':            'string',\n",
    "  'Anio':                   'Int64'\n",
    "}"
   ]
  },
  {
   "cell_type": "code",
   "execution_count": 7,
   "id": "8e84cc74",
   "metadata": {},
   "outputs": [],
   "source": [
    "ruta_data = \"../../../Documentos/Proyectos - Diplomado/Ecobici/\"\n",
    "archivos = glob.glob(ruta_data + \"*.csv\")\n",
    "out_dir = Path(\"data_parquet\")\n",
    "out_dir.mkdir(exist_ok=True)"
   ]
  },
  {
   "cell_type": "code",
   "execution_count": 8,
   "id": "7b14146d",
   "metadata": {},
   "outputs": [
    {
     "ename": "ParserError",
     "evalue": "Error tokenizing data. C error: Calling read(nbytes) on source failed. Try engine='python'.",
     "output_type": "error",
     "traceback": [
      "\u001b[31m---------------------------------------------------------------------------\u001b[39m",
      "\u001b[31mParserError\u001b[39m                               Traceback (most recent call last)",
      "\u001b[36mCell\u001b[39m\u001b[36m \u001b[39m\u001b[32mIn[8]\u001b[39m\u001b[32m, line 2\u001b[39m\n\u001b[32m      1\u001b[39m \u001b[38;5;28;01mfor\u001b[39;00m i, archivo \u001b[38;5;129;01min\u001b[39;00m \u001b[38;5;28menumerate\u001b[39m(archivos):\n\u001b[32m----> \u001b[39m\u001b[32m2\u001b[39m     df = \u001b[43mpd\u001b[49m\u001b[43m.\u001b[49m\u001b[43mread_csv\u001b[49m\u001b[43m(\u001b[49m\u001b[43marchivo\u001b[49m\u001b[43m,\u001b[49m\u001b[43m \u001b[49m\u001b[43mdtype\u001b[49m\u001b[43m=\u001b[49m\u001b[43mdtypes\u001b[49m\u001b[43m,\u001b[49m\u001b[43m \u001b[49m\u001b[43mlow_memory\u001b[49m\u001b[43m=\u001b[49m\u001b[38;5;28;43;01mFalse\u001b[39;49;00m\u001b[43m)\u001b[49m\n\u001b[32m      3\u001b[39m     pq.write_table(pa.Table.from_pandas(df), \u001b[33mf\u001b[39m\u001b[33m\"\u001b[39m\u001b[33mdata_parquet/año_\u001b[39m\u001b[38;5;132;01m{\u001b[39;00m\u001b[32m2010\u001b[39m+i\u001b[38;5;132;01m}\u001b[39;00m\u001b[33m.parquet\u001b[39m\u001b[33m\"\u001b[39m)\n",
      "\u001b[36mFile \u001b[39m\u001b[32m~/Documentos/UNAM-DCD-G33/.venv/lib/python3.11/site-packages/pandas/io/parsers/readers.py:1026\u001b[39m, in \u001b[36mread_csv\u001b[39m\u001b[34m(filepath_or_buffer, sep, delimiter, header, names, index_col, usecols, dtype, engine, converters, true_values, false_values, skipinitialspace, skiprows, skipfooter, nrows, na_values, keep_default_na, na_filter, verbose, skip_blank_lines, parse_dates, infer_datetime_format, keep_date_col, date_parser, date_format, dayfirst, cache_dates, iterator, chunksize, compression, thousands, decimal, lineterminator, quotechar, quoting, doublequote, escapechar, comment, encoding, encoding_errors, dialect, on_bad_lines, delim_whitespace, low_memory, memory_map, float_precision, storage_options, dtype_backend)\u001b[39m\n\u001b[32m   1013\u001b[39m kwds_defaults = _refine_defaults_read(\n\u001b[32m   1014\u001b[39m     dialect,\n\u001b[32m   1015\u001b[39m     delimiter,\n\u001b[32m   (...)\u001b[39m\u001b[32m   1022\u001b[39m     dtype_backend=dtype_backend,\n\u001b[32m   1023\u001b[39m )\n\u001b[32m   1024\u001b[39m kwds.update(kwds_defaults)\n\u001b[32m-> \u001b[39m\u001b[32m1026\u001b[39m \u001b[38;5;28;01mreturn\u001b[39;00m \u001b[43m_read\u001b[49m\u001b[43m(\u001b[49m\u001b[43mfilepath_or_buffer\u001b[49m\u001b[43m,\u001b[49m\u001b[43m \u001b[49m\u001b[43mkwds\u001b[49m\u001b[43m)\u001b[49m\n",
      "\u001b[36mFile \u001b[39m\u001b[32m~/Documentos/UNAM-DCD-G33/.venv/lib/python3.11/site-packages/pandas/io/parsers/readers.py:626\u001b[39m, in \u001b[36m_read\u001b[39m\u001b[34m(filepath_or_buffer, kwds)\u001b[39m\n\u001b[32m    623\u001b[39m     \u001b[38;5;28;01mreturn\u001b[39;00m parser\n\u001b[32m    625\u001b[39m \u001b[38;5;28;01mwith\u001b[39;00m parser:\n\u001b[32m--> \u001b[39m\u001b[32m626\u001b[39m     \u001b[38;5;28;01mreturn\u001b[39;00m \u001b[43mparser\u001b[49m\u001b[43m.\u001b[49m\u001b[43mread\u001b[49m\u001b[43m(\u001b[49m\u001b[43mnrows\u001b[49m\u001b[43m)\u001b[49m\n",
      "\u001b[36mFile \u001b[39m\u001b[32m~/Documentos/UNAM-DCD-G33/.venv/lib/python3.11/site-packages/pandas/io/parsers/readers.py:1923\u001b[39m, in \u001b[36mTextFileReader.read\u001b[39m\u001b[34m(self, nrows)\u001b[39m\n\u001b[32m   1916\u001b[39m nrows = validate_integer(\u001b[33m\"\u001b[39m\u001b[33mnrows\u001b[39m\u001b[33m\"\u001b[39m, nrows)\n\u001b[32m   1917\u001b[39m \u001b[38;5;28;01mtry\u001b[39;00m:\n\u001b[32m   1918\u001b[39m     \u001b[38;5;66;03m# error: \"ParserBase\" has no attribute \"read\"\u001b[39;00m\n\u001b[32m   1919\u001b[39m     (\n\u001b[32m   1920\u001b[39m         index,\n\u001b[32m   1921\u001b[39m         columns,\n\u001b[32m   1922\u001b[39m         col_dict,\n\u001b[32m-> \u001b[39m\u001b[32m1923\u001b[39m     ) = \u001b[38;5;28;43mself\u001b[39;49m\u001b[43m.\u001b[49m\u001b[43m_engine\u001b[49m\u001b[43m.\u001b[49m\u001b[43mread\u001b[49m\u001b[43m(\u001b[49m\u001b[43m  \u001b[49m\u001b[38;5;66;43;03m# type: ignore[attr-defined]\u001b[39;49;00m\n\u001b[32m   1924\u001b[39m \u001b[43m        \u001b[49m\u001b[43mnrows\u001b[49m\n\u001b[32m   1925\u001b[39m \u001b[43m    \u001b[49m\u001b[43m)\u001b[49m\n\u001b[32m   1926\u001b[39m \u001b[38;5;28;01mexcept\u001b[39;00m \u001b[38;5;167;01mException\u001b[39;00m:\n\u001b[32m   1927\u001b[39m     \u001b[38;5;28mself\u001b[39m.close()\n",
      "\u001b[36mFile \u001b[39m\u001b[32m~/Documentos/UNAM-DCD-G33/.venv/lib/python3.11/site-packages/pandas/io/parsers/c_parser_wrapper.py:239\u001b[39m, in \u001b[36mCParserWrapper.read\u001b[39m\u001b[34m(self, nrows)\u001b[39m\n\u001b[32m    236\u001b[39m         data = _concatenate_chunks(chunks)\n\u001b[32m    238\u001b[39m     \u001b[38;5;28;01melse\u001b[39;00m:\n\u001b[32m--> \u001b[39m\u001b[32m239\u001b[39m         data = \u001b[38;5;28;43mself\u001b[39;49m\u001b[43m.\u001b[49m\u001b[43m_reader\u001b[49m\u001b[43m.\u001b[49m\u001b[43mread\u001b[49m\u001b[43m(\u001b[49m\u001b[43mnrows\u001b[49m\u001b[43m)\u001b[49m\n\u001b[32m    240\u001b[39m \u001b[38;5;28;01mexcept\u001b[39;00m \u001b[38;5;167;01mStopIteration\u001b[39;00m:\n\u001b[32m    241\u001b[39m     \u001b[38;5;28;01mif\u001b[39;00m \u001b[38;5;28mself\u001b[39m._first_chunk:\n",
      "\u001b[36mFile \u001b[39m\u001b[32mpandas/_libs/parsers.pyx:820\u001b[39m, in \u001b[36mpandas._libs.parsers.TextReader.read\u001b[39m\u001b[34m()\u001b[39m\n",
      "\u001b[36mFile \u001b[39m\u001b[32mpandas/_libs/parsers.pyx:914\u001b[39m, in \u001b[36mpandas._libs.parsers.TextReader._read_rows\u001b[39m\u001b[34m()\u001b[39m\n",
      "\u001b[36mFile \u001b[39m\u001b[32mpandas/_libs/parsers.pyx:891\u001b[39m, in \u001b[36mpandas._libs.parsers.TextReader._check_tokenize_status\u001b[39m\u001b[34m()\u001b[39m\n",
      "\u001b[36mFile \u001b[39m\u001b[32mpandas/_libs/parsers.pyx:2061\u001b[39m, in \u001b[36mpandas._libs.parsers.raise_parser_error\u001b[39m\u001b[34m()\u001b[39m\n",
      "\u001b[31mParserError\u001b[39m: Error tokenizing data. C error: Calling read(nbytes) on source failed. Try engine='python'."
     ]
    }
   ],
   "source": [
    "for i, archivo in enumerate(archivos):\n",
    "    df = pd.read_csv(archivo, dtype=dtypes, low_memory=False)\n",
    "    pq.write_table(pa.Table.from_pandas(df), f\"data_parquet/año_{2010+i}.parquet\")"
   ]
  },
  {
   "cell_type": "code",
   "execution_count": null,
   "id": "4956cf88",
   "metadata": {},
   "outputs": [],
   "source": [
    "# Verificar y corregir tipos de datos en archivos Parquet, ya que piden que sean del mismo tipo\n",
    "#ruta = \"../../../Documentos/Proyectos - Diplomado/Practica 1/data_parquet/*.parquet\"\n",
    "\n",
    "#for f in glob.glob(ruta):\n",
    "#    df = pd.read_parquet(f)\n",
    "#    df[\"Ciclo_EstacionArribo\"] = df[\"Ciclo_EstacionArribo\"].astype(str)\n",
    "#    df[\"Ciclo_Estacion_Retiro\"] = df[\"Ciclo_Estacion_Retiro\"].astype(str)\n",
    "#    df.to_parquet(f, index=False)"
   ]
  },
  {
   "cell_type": "code",
   "execution_count": 11,
   "id": "bc773e3d",
   "metadata": {},
   "outputs": [],
   "source": [
    "# Verificar y corregir tipos de datos en archivos Parquet, ya que piden que sean del mismo tipo\n",
    "ruta = \"../../../Documentos/Proyectos - Diplomado/Practica 1/data_parquet/*.parquet\"\n",
    "\n",
    "for f in glob.glob(ruta):\n",
    "    df = pd.read_parquet(f)\n",
    "    df[\"Anio\"] = df[\"Anio\"].astype(pd.Int64Dtype())\n",
    "    df.to_parquet(f, index=False)"
   ]
  },
  {
   "cell_type": "code",
   "execution_count": 12,
   "id": "f9bc0592",
   "metadata": {},
   "outputs": [],
   "source": [
    "df_lazy = pl.scan_parquet(\n",
    "    \"../../../Documentos/UNAM-DCD-G33/Equipo1/data_parquet/*.parquet\")"
   ]
  },
  {
   "cell_type": "code",
   "execution_count": 13,
   "id": "2c10912a",
   "metadata": {},
   "outputs": [
    {
     "ename": "SchemaError",
     "evalue": "data type mismatch for column Ciclo_EstacionArribo: incoming: Int64 != target: String",
     "output_type": "error",
     "traceback": [
      "\u001b[31m---------------------------------------------------------------------------\u001b[39m",
      "\u001b[31mSchemaError\u001b[39m                               Traceback (most recent call last)",
      "\u001b[36mCell\u001b[39m\u001b[36m \u001b[39m\u001b[32mIn[13]\u001b[39m\u001b[32m, line 1\u001b[39m\n\u001b[32m----> \u001b[39m\u001b[32m1\u001b[39m df_total_analisis = \u001b[43mdf_lazy\u001b[49m\u001b[43m.\u001b[49m\u001b[43mcollect\u001b[49m\u001b[43m(\u001b[49m\u001b[43m)\u001b[49m\n",
      "\u001b[36mFile \u001b[39m\u001b[32m~/Documentos/UNAM-DCD-G33/.venv/lib/python3.11/site-packages/polars/_utils/deprecation.py:97\u001b[39m, in \u001b[36mdeprecate_streaming_parameter.<locals>.decorate.<locals>.wrapper\u001b[39m\u001b[34m(*args, **kwargs)\u001b[39m\n\u001b[32m     93\u001b[39m         kwargs[\u001b[33m\"\u001b[39m\u001b[33mengine\u001b[39m\u001b[33m\"\u001b[39m] = \u001b[33m\"\u001b[39m\u001b[33min-memory\u001b[39m\u001b[33m\"\u001b[39m\n\u001b[32m     95\u001b[39m     \u001b[38;5;28;01mdel\u001b[39;00m kwargs[\u001b[33m\"\u001b[39m\u001b[33mstreaming\u001b[39m\u001b[33m\"\u001b[39m]\n\u001b[32m---> \u001b[39m\u001b[32m97\u001b[39m \u001b[38;5;28;01mreturn\u001b[39;00m \u001b[43mfunction\u001b[49m\u001b[43m(\u001b[49m\u001b[43m*\u001b[49m\u001b[43margs\u001b[49m\u001b[43m,\u001b[49m\u001b[43m \u001b[49m\u001b[43m*\u001b[49m\u001b[43m*\u001b[49m\u001b[43mkwargs\u001b[49m\u001b[43m)\u001b[49m\n",
      "\u001b[36mFile \u001b[39m\u001b[32m~/Documentos/UNAM-DCD-G33/.venv/lib/python3.11/site-packages/polars/lazyframe/opt_flags.py:328\u001b[39m, in \u001b[36mforward_old_opt_flags.<locals>.decorate.<locals>.wrapper\u001b[39m\u001b[34m(*args, **kwargs)\u001b[39m\n\u001b[32m    325\u001b[39m         optflags = cb(optflags, kwargs.pop(key))  \u001b[38;5;66;03m# type: ignore[no-untyped-call,unused-ignore]\u001b[39;00m\n\u001b[32m    327\u001b[39m kwargs[\u001b[33m\"\u001b[39m\u001b[33moptimizations\u001b[39m\u001b[33m\"\u001b[39m] = optflags\n\u001b[32m--> \u001b[39m\u001b[32m328\u001b[39m \u001b[38;5;28;01mreturn\u001b[39;00m \u001b[43mfunction\u001b[49m\u001b[43m(\u001b[49m\u001b[43m*\u001b[49m\u001b[43margs\u001b[49m\u001b[43m,\u001b[49m\u001b[43m \u001b[49m\u001b[43m*\u001b[49m\u001b[43m*\u001b[49m\u001b[43mkwargs\u001b[49m\u001b[43m)\u001b[49m\n",
      "\u001b[36mFile \u001b[39m\u001b[32m~/Documentos/UNAM-DCD-G33/.venv/lib/python3.11/site-packages/polars/lazyframe/frame.py:2415\u001b[39m, in \u001b[36mLazyFrame.collect\u001b[39m\u001b[34m(self, type_coercion, predicate_pushdown, projection_pushdown, simplify_expression, slice_pushdown, comm_subplan_elim, comm_subexpr_elim, cluster_with_columns, collapse_joins, no_optimization, engine, background, optimizations, **_kwargs)\u001b[39m\n\u001b[32m   2413\u001b[39m \u001b[38;5;66;03m# Only for testing purposes\u001b[39;00m\n\u001b[32m   2414\u001b[39m callback = _kwargs.get(\u001b[33m\"\u001b[39m\u001b[33mpost_opt_callback\u001b[39m\u001b[33m\"\u001b[39m, callback)\n\u001b[32m-> \u001b[39m\u001b[32m2415\u001b[39m \u001b[38;5;28;01mreturn\u001b[39;00m wrap_df(\u001b[43mldf\u001b[49m\u001b[43m.\u001b[49m\u001b[43mcollect\u001b[49m\u001b[43m(\u001b[49m\u001b[43mengine\u001b[49m\u001b[43m,\u001b[49m\u001b[43m \u001b[49m\u001b[43mcallback\u001b[49m\u001b[43m)\u001b[49m)\n",
      "\u001b[31mSchemaError\u001b[39m: data type mismatch for column Ciclo_EstacionArribo: incoming: Int64 != target: String"
     ]
    }
   ],
   "source": [
    "df_total_analisis = df_lazy.collect()"
   ]
  },
  {
   "cell_type": "code",
   "execution_count": 10,
   "id": "5d710c50",
   "metadata": {},
   "outputs": [
    {
     "data": {
      "text/html": [
       "<div><style>\n",
       ".dataframe > thead > tr,\n",
       ".dataframe > tbody > tr {\n",
       "  text-align: right;\n",
       "  white-space: pre-wrap;\n",
       "}\n",
       "</style>\n",
       "<small>shape: (9, 11)</small><table border=\"1\" class=\"dataframe\"><thead><tr><th>statistic</th><th>Genero_Usuario</th><th>Edad_Usuario</th><th>Bici</th><th>Ciclo_Estacion_Retiro</th><th>Fecha_Retiro</th><th>Hora_Retiro</th><th>Ciclo_EstacionArribo</th><th>Fecha_Arribo</th><th>Hora_Arribo</th><th>Anio</th></tr><tr><td>str</td><td>str</td><td>f64</td><td>str</td><td>str</td><td>str</td><td>str</td><td>str</td><td>str</td><td>str</td><td>f64</td></tr></thead><tbody><tr><td>&quot;count&quot;</td><td>&quot;9069543&quot;</td><td>9.069543e6</td><td>&quot;9069543&quot;</td><td>&quot;9069543&quot;</td><td>&quot;9069543&quot;</td><td>&quot;9069543&quot;</td><td>&quot;9069543&quot;</td><td>&quot;9069543&quot;</td><td>&quot;9069543&quot;</td><td>9.069543e6</td></tr><tr><td>&quot;null_count&quot;</td><td>&quot;0&quot;</td><td>0.0</td><td>&quot;0&quot;</td><td>&quot;0&quot;</td><td>&quot;0&quot;</td><td>&quot;0&quot;</td><td>&quot;0&quot;</td><td>&quot;0&quot;</td><td>&quot;0&quot;</td><td>0.0</td></tr><tr><td>&quot;mean&quot;</td><td>null</td><td>34.53166</td><td>null</td><td>null</td><td>null</td><td>null</td><td>null</td><td>null</td><td>null</td><td>2016.0</td></tr><tr><td>&quot;std&quot;</td><td>null</td><td>10.170195</td><td>null</td><td>null</td><td>null</td><td>null</td><td>null</td><td>null</td><td>null</td><td>0.0</td></tr><tr><td>&quot;min&quot;</td><td>&quot;F&quot;</td><td>16.0</td><td>&quot;0001&quot;</td><td>&quot;1&quot;</td><td>&quot;2011-10-14&quot;</td><td>&quot;00:00:00&quot;</td><td>&quot;1&quot;</td><td>&quot;2016-01-01&quot;</td><td>&quot;00:00:00&quot;</td><td>2016.0</td></tr><tr><td>&quot;25%&quot;</td><td>null</td><td>27.0</td><td>null</td><td>null</td><td>null</td><td>null</td><td>null</td><td>null</td><td>null</td><td>2016.0</td></tr><tr><td>&quot;50%&quot;</td><td>null</td><td>32.0</td><td>null</td><td>null</td><td>null</td><td>null</td><td>null</td><td>null</td><td>null</td><td>2016.0</td></tr><tr><td>&quot;75%&quot;</td><td>null</td><td>40.0</td><td>null</td><td>null</td><td>null</td><td>null</td><td>null</td><td>null</td><td>null</td><td>2016.0</td></tr><tr><td>&quot;max&quot;</td><td>&quot;M&quot;</td><td>116.0</td><td>&quot;lab010&quot;</td><td>&quot;99&quot;</td><td>&quot;2016-12-31&quot;</td><td>&quot;23:59:59&quot;</td><td>&quot;99&quot;</td><td>&quot;2016-12-31&quot;</td><td>&quot;23:59:59&quot;</td><td>2016.0</td></tr></tbody></table></div>"
      ],
      "text/plain": [
       "shape: (9, 11)\n",
       "┌────────────┬───────────┬───────────┬─────────┬───┬───────────┬───────────┬───────────┬───────────┐\n",
       "│ statistic  ┆ Genero_Us ┆ Edad_Usua ┆ Bici    ┆ … ┆ Ciclo_Est ┆ Fecha_Arr ┆ Hora_Arri ┆ Anio      │\n",
       "│ ---        ┆ uario     ┆ rio       ┆ ---     ┆   ┆ acionArri ┆ ibo       ┆ bo        ┆ ---       │\n",
       "│ str        ┆ ---       ┆ ---       ┆ str     ┆   ┆ bo        ┆ ---       ┆ ---       ┆ f64       │\n",
       "│            ┆ str       ┆ f64       ┆         ┆   ┆ ---       ┆ str       ┆ str       ┆           │\n",
       "│            ┆           ┆           ┆         ┆   ┆ str       ┆           ┆           ┆           │\n",
       "╞════════════╪═══════════╪═══════════╪═════════╪═══╪═══════════╪═══════════╪═══════════╪═══════════╡\n",
       "│ count      ┆ 9069543   ┆ 9.069543e ┆ 9069543 ┆ … ┆ 9069543   ┆ 9069543   ┆ 9069543   ┆ 9.069543e │\n",
       "│            ┆           ┆ 6         ┆         ┆   ┆           ┆           ┆           ┆ 6         │\n",
       "│ null_count ┆ 0         ┆ 0.0       ┆ 0       ┆ … ┆ 0         ┆ 0         ┆ 0         ┆ 0.0       │\n",
       "│ mean       ┆ null      ┆ 34.53166  ┆ null    ┆ … ┆ null      ┆ null      ┆ null      ┆ 2016.0    │\n",
       "│ std        ┆ null      ┆ 10.170195 ┆ null    ┆ … ┆ null      ┆ null      ┆ null      ┆ 0.0       │\n",
       "│ min        ┆ F         ┆ 16.0      ┆ 0001    ┆ … ┆ 1         ┆ 2016-01-0 ┆ 00:00:00  ┆ 2016.0    │\n",
       "│            ┆           ┆           ┆         ┆   ┆           ┆ 1         ┆           ┆           │\n",
       "│ 25%        ┆ null      ┆ 27.0      ┆ null    ┆ … ┆ null      ┆ null      ┆ null      ┆ 2016.0    │\n",
       "│ 50%        ┆ null      ┆ 32.0      ┆ null    ┆ … ┆ null      ┆ null      ┆ null      ┆ 2016.0    │\n",
       "│ 75%        ┆ null      ┆ 40.0      ┆ null    ┆ … ┆ null      ┆ null      ┆ null      ┆ 2016.0    │\n",
       "│ max        ┆ M         ┆ 116.0     ┆ lab010  ┆ … ┆ 99        ┆ 2016-12-3 ┆ 23:59:59  ┆ 2016.0    │\n",
       "│            ┆           ┆           ┆         ┆   ┆           ┆ 1         ┆           ┆           │\n",
       "└────────────┴───────────┴───────────┴─────────┴───┴───────────┴───────────┴───────────┴───────────┘"
      ]
     },
     "execution_count": 10,
     "metadata": {},
     "output_type": "execute_result"
    }
   ],
   "source": [
    "df_total_analisis.describe()"
   ]
  },
  {
   "cell_type": "code",
   "execution_count": null,
   "id": "483efc4b",
   "metadata": {},
   "outputs": [],
   "source": [
    "df_total_analisis['Fecha_Retiro'] = pd.to_datetime(df_total_analisis['Fecha_Retiro'])"
   ]
  },
  {
   "cell_type": "markdown",
   "id": "802ed3b5",
   "metadata": {},
   "source": [
    "## Limpieza y Transformación de datos"
   ]
  },
  {
   "cell_type": "code",
   "execution_count": 23,
   "id": "af1c8ce7",
   "metadata": {},
   "outputs": [],
   "source": [
    "def completitud_datos(df):\n",
    "    return round(df.isnull().sum().sort_values(ascending=False) / df.shape[0], 4)"
   ]
  },
  {
   "cell_type": "code",
   "execution_count": null,
   "id": "d96e2219",
   "metadata": {},
   "outputs": [
    {
     "data": {
      "text/plain": [
       "Edad_Usuario             0.0\n",
       "Genero_Usuario           0.0\n",
       "Bici                     0.0\n",
       "Ciclo_Estacion_Retiro    0.0\n",
       "Fecha_Retiro             0.0\n",
       "Hora_Retiro              0.0\n",
       "Ciclo_EstacionArribo     0.0\n",
       "Fecha_Arribo             0.0\n",
       "Hora_Arribo              0.0\n",
       "Anio                     0.0\n",
       "dtype: float64"
      ]
     },
     "execution_count": 25,
     "metadata": {},
     "output_type": "execute_result"
    }
   ],
   "source": [
    "completitud_datos(df_total_analisis)"
   ]
  },
  {
   "cell_type": "code",
   "execution_count": null,
   "id": "ad394315",
   "metadata": {},
   "outputs": [],
   "source": [
    "# Unir fecha y hora\n",
    "df_total_analisis['FechaHora_Retiro'] = pd.to_datetime(\n",
    "    df_total_analisis['Fecha_Retiro'].astype(str) + ' ' + df_total_analisis['Hora_Retiro'].astype(str),\n",
    "    errors='coerce'\n",
    ")\n",
    "\n",
    "# Unir fecha y hora\n",
    "df_total_analisis['FechaHora_Arribo'] = pd.to_datetime(\n",
    "    df_total_analisis['Fecha_Arribo'].astype(str) + ' ' + df_total_analisis['Hora_Arribo'].astype(str),\n",
    "    errors='coerce'\n",
    ")"
   ]
  },
  {
   "cell_type": "code",
   "execution_count": null,
   "id": "e4e8d3f2",
   "metadata": {},
   "outputs": [
    {
     "data": {
      "text/html": [
       "<div>\n",
       "<style scoped>\n",
       "    .dataframe tbody tr th:only-of-type {\n",
       "        vertical-align: middle;\n",
       "    }\n",
       "\n",
       "    .dataframe tbody tr th {\n",
       "        vertical-align: top;\n",
       "    }\n",
       "\n",
       "    .dataframe thead th {\n",
       "        text-align: right;\n",
       "    }\n",
       "</style>\n",
       "<table border=\"1\" class=\"dataframe\">\n",
       "  <thead>\n",
       "    <tr style=\"text-align: right;\">\n",
       "      <th></th>\n",
       "      <th>Genero_Usuario</th>\n",
       "      <th>Edad_Usuario</th>\n",
       "      <th>Bici</th>\n",
       "      <th>Ciclo_Estacion_Retiro</th>\n",
       "      <th>Fecha_Retiro</th>\n",
       "      <th>Hora_Retiro</th>\n",
       "      <th>Ciclo_EstacionArribo</th>\n",
       "      <th>Fecha_Arribo</th>\n",
       "      <th>Hora_Arribo</th>\n",
       "      <th>Anio</th>\n",
       "      <th>FechaHora_Retiro</th>\n",
       "      <th>FechaHora_Arribo</th>\n",
       "    </tr>\n",
       "  </thead>\n",
       "  <tbody>\n",
       "    <tr>\n",
       "      <th>0</th>\n",
       "      <td>F</td>\n",
       "      <td>22.0</td>\n",
       "      <td>2586485</td>\n",
       "      <td>107-108</td>\n",
       "      <td>2025-03-31</td>\n",
       "      <td>23:34:46</td>\n",
       "      <td>181</td>\n",
       "      <td>2025-04-01</td>\n",
       "      <td>00:00:12</td>\n",
       "      <td>2025</td>\n",
       "      <td>2025-03-31 23:34:46</td>\n",
       "      <td>2025-04-01 00:00:12</td>\n",
       "    </tr>\n",
       "    <tr>\n",
       "      <th>1</th>\n",
       "      <td>M</td>\n",
       "      <td>50.0</td>\n",
       "      <td>8152522</td>\n",
       "      <td>384</td>\n",
       "      <td>2025-03-31</td>\n",
       "      <td>23:43:51</td>\n",
       "      <td>387</td>\n",
       "      <td>2025-04-01</td>\n",
       "      <td>00:00:16</td>\n",
       "      <td>2025</td>\n",
       "      <td>2025-03-31 23:43:51</td>\n",
       "      <td>2025-04-01 00:00:16</td>\n",
       "    </tr>\n",
       "    <tr>\n",
       "      <th>2</th>\n",
       "      <td>M</td>\n",
       "      <td>24.0</td>\n",
       "      <td>4219945</td>\n",
       "      <td>021</td>\n",
       "      <td>2025-03-31</td>\n",
       "      <td>23:42:36</td>\n",
       "      <td>548</td>\n",
       "      <td>2025-04-01</td>\n",
       "      <td>00:00:23</td>\n",
       "      <td>2025</td>\n",
       "      <td>2025-03-31 23:42:36</td>\n",
       "      <td>2025-04-01 00:00:23</td>\n",
       "    </tr>\n",
       "    <tr>\n",
       "      <th>3</th>\n",
       "      <td>M</td>\n",
       "      <td>32.0</td>\n",
       "      <td>2286540</td>\n",
       "      <td>271-272</td>\n",
       "      <td>2025-03-31</td>\n",
       "      <td>23:57:16</td>\n",
       "      <td>450</td>\n",
       "      <td>2025-04-01</td>\n",
       "      <td>00:00:31</td>\n",
       "      <td>2025</td>\n",
       "      <td>2025-03-31 23:57:16</td>\n",
       "      <td>2025-04-01 00:00:31</td>\n",
       "    </tr>\n",
       "    <tr>\n",
       "      <th>4</th>\n",
       "      <td>M</td>\n",
       "      <td>26.0</td>\n",
       "      <td>5017868</td>\n",
       "      <td>538</td>\n",
       "      <td>2025-03-31</td>\n",
       "      <td>23:46:23</td>\n",
       "      <td>012</td>\n",
       "      <td>2025-04-01</td>\n",
       "      <td>00:00:31</td>\n",
       "      <td>2025</td>\n",
       "      <td>2025-03-31 23:46:23</td>\n",
       "      <td>2025-04-01 00:00:31</td>\n",
       "    </tr>\n",
       "  </tbody>\n",
       "</table>\n",
       "</div>"
      ],
      "text/plain": [
       "  Genero_Usuario  Edad_Usuario     Bici Ciclo_Estacion_Retiro Fecha_Retiro  \\\n",
       "0              F          22.0  2586485               107-108   2025-03-31   \n",
       "1              M          50.0  8152522                   384   2025-03-31   \n",
       "2              M          24.0  4219945                   021   2025-03-31   \n",
       "3              M          32.0  2286540               271-272   2025-03-31   \n",
       "4              M          26.0  5017868                   538   2025-03-31   \n",
       "\n",
       "  Hora_Retiro Ciclo_EstacionArribo Fecha_Arribo Hora_Arribo  Anio  \\\n",
       "0    23:34:46                  181   2025-04-01    00:00:12  2025   \n",
       "1    23:43:51                  387   2025-04-01    00:00:16  2025   \n",
       "2    23:42:36                  548   2025-04-01    00:00:23  2025   \n",
       "3    23:57:16                  450   2025-04-01    00:00:31  2025   \n",
       "4    23:46:23                  012   2025-04-01    00:00:31  2025   \n",
       "\n",
       "     FechaHora_Retiro    FechaHora_Arribo  \n",
       "0 2025-03-31 23:34:46 2025-04-01 00:00:12  \n",
       "1 2025-03-31 23:43:51 2025-04-01 00:00:16  \n",
       "2 2025-03-31 23:42:36 2025-04-01 00:00:23  \n",
       "3 2025-03-31 23:57:16 2025-04-01 00:00:31  \n",
       "4 2025-03-31 23:46:23 2025-04-01 00:00:31  "
      ]
     },
     "execution_count": 6,
     "metadata": {},
     "output_type": "execute_result"
    }
   ],
   "source": [
    "df_total_analisis.head(5)"
   ]
  },
  {
   "cell_type": "markdown",
   "id": "ec4527a6",
   "metadata": {},
   "source": [
    "### Calculo de la duración del viaje"
   ]
  },
  {
   "cell_type": "code",
   "execution_count": 23,
   "id": "cbf1cd06",
   "metadata": {},
   "outputs": [],
   "source": [
    "# Calcular la duracion en minutos\n",
    "df_total['Duracion'] = (df_total['FechaHora_Arribo'] - df_total['FechaHora_Retiro']).dt.total_seconds() / 60"
   ]
  },
  {
   "cell_type": "markdown",
   "id": "68e74537",
   "metadata": {},
   "source": [
    "### Clasificación de variables"
   ]
  },
  {
   "cell_type": "code",
   "execution_count": null,
   "id": "09f4737c",
   "metadata": {},
   "outputs": [],
   "source": [
    "# Variables\n",
    "discretas = ['Genero_Usuario', 'Ciclo_Estacion_Retiro', 'Ciclo_EstacionArribo']\n",
    "continuas = ['Edad_Usuario', 'Bici']\n",
    "\n",
    "### Asignar tipo de dato\n",
    "dtypes = {\n",
    "    'Genero_Usuario': 'string',\n",
    "    'Bici': 'Float64',\n",
    "    'Ciclo_Estacion_Retiro': 'string',\n",
    "    'Ciclo_EstacionArribo': 'string',\n",
    "    'Edad_Usuario': 'Int32'   # acepta NaN\n",
    "}\n",
    "\n",
    "df_total_analisis = df_total_analisis.astype(dtypes)"
   ]
  },
  {
   "cell_type": "markdown",
   "id": "645aa34a",
   "metadata": {},
   "source": [
    "### Creación de histogramas para variables continuas"
   ]
  },
  {
   "cell_type": "code",
   "execution_count": null,
   "id": "7b5f2088",
   "metadata": {},
   "outputs": [],
   "source": [
    "##"
   ]
  },
  {
   "cell_type": "markdown",
   "id": "644b5b4a",
   "metadata": {},
   "source": [
    "### Creacion de graficos de barra y pastel para variables discretas"
   ]
  },
  {
   "cell_type": "code",
   "execution_count": null,
   "id": "adedda38",
   "metadata": {},
   "outputs": [],
   "source": []
  },
  {
   "cell_type": "markdown",
   "id": "24d1c758",
   "metadata": {},
   "source": [
    "### Analisis y conclusiones basados en las graficas"
   ]
  },
  {
   "cell_type": "code",
   "execution_count": null,
   "id": "fe8ce8e6",
   "metadata": {},
   "outputs": [],
   "source": []
  }
 ],
 "metadata": {
  "kernelspec": {
   "display_name": ".venv",
   "language": "python",
   "name": "python3"
  },
  "language_info": {
   "codemirror_mode": {
    "name": "ipython",
    "version": 3
   },
   "file_extension": ".py",
   "mimetype": "text/x-python",
   "name": "python",
   "nbconvert_exporter": "python",
   "pygments_lexer": "ipython3",
   "version": "3.11.11"
  }
 },
 "nbformat": 4,
 "nbformat_minor": 5
}
